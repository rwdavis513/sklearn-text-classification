{
 "cells": [
  {
   "cell_type": "code",
   "execution_count": 7,
   "metadata": {},
   "outputs": [],
   "source": [
    "from sklearn.datasets import fetch_20newsgroups\n",
    "from sklearn.feature_extraction.text import CountVectorizer, TfidfTransformer\n",
    "from sklearn.naive_bayes import MultinomialNB\n",
    "from sklearn.pipeline import Pipeline"
   ]
  },
  {
   "cell_type": "code",
   "execution_count": 8,
   "metadata": {},
   "outputs": [],
   "source": [
    "from sklearn.model_selection import KFold, train_test_split"
   ]
  },
  {
   "cell_type": "code",
   "execution_count": 21,
   "metadata": {},
   "outputs": [],
   "source": [
    "categories = ['alt.atheism', 'soc.religion.christian', 'comp.graphics', 'sci.med']\n",
    "twenty_train = fetch_20newsgroups(subset='train', categories=categories, shuffle=True, random_state=42)\n",
    "x = np.array(twenty_train.data)\n",
    "y = np.array(twenty_train.target)"
   ]
  },
  {
   "cell_type": "code",
   "execution_count": 10,
   "metadata": {},
   "outputs": [],
   "source": [
    "text_clf = Pipeline([('vect', CountVectorizer()),\n",
    "                     ('tfidf', TfidfTransformer()),\n",
    "                     ('clf', MultinomialNB()),\n",
    "                   ])"
   ]
  },
  {
   "cell_type": "code",
   "execution_count": 11,
   "metadata": {},
   "outputs": [],
   "source": [
    "kf = KFold(n_splits=10)"
   ]
  },
  {
   "cell_type": "code",
   "execution_count": 26,
   "metadata": {},
   "outputs": [
    {
     "name": "stdout",
     "output_type": "stream",
     "text": [
      "Training Score: 0.961       Validation Score: 0.894\n",
      "Training Score: 0.965       Validation Score: 0.912\n",
      "Training Score: 0.966       Validation Score: 0.947\n",
      "Training Score: 0.965       Validation Score: 0.925\n",
      "Training Score: 0.961       Validation Score: 0.898\n",
      "Training Score: 0.966       Validation Score: 0.925\n",
      "Training Score: 0.956       Validation Score: 0.938\n",
      "Training Score: 0.963       Validation Score: 0.916\n",
      "Training Score: 0.957       Validation Score: 0.902\n",
      "Training Score: 0.961       Validation Score: 0.929\n",
      "Training Mean: 0.962     Validation Mean: 0.918\n"
     ]
    }
   ],
   "source": [
    "scores = []\n",
    "for train_index, val_index in kf.split(x):\n",
    "#    print(train_index)\n",
    "    x_train = x[train_index]\n",
    "    y_train = y[train_index]\n",
    "    x_val = x[val_index]\n",
    "    y_val = y[val_index]\n",
    "    text_clf.fit(x_train, y_train)\n",
    "    training_score = text_clf.score(x_train, y_train)\n",
    "    validation_score = text_clf.score(x_val, y_val)\n",
    "    print(\"Training Score: {:0.3f}       Validation Score: {:0.3f}\".format(training_score, validation_score))\n",
    "    scores.append((training_score, validation_score))\n",
    "scores = np.array(scores)\n",
    "print(\"Training Mean: {:0.3f}     Validation Mean: {:0.3f}\".format(scores[:, 0].mean(), scores[:, 1].mean()))"
   ]
  },
  {
   "cell_type": "code",
   "execution_count": null,
   "metadata": {},
   "outputs": [],
   "source": []
  }
 ],
 "metadata": {
  "kernelspec": {
   "display_name": "Python 3",
   "language": "python",
   "name": "python3"
  },
  "language_info": {
   "codemirror_mode": {
    "name": "ipython",
    "version": 3
   },
   "file_extension": ".py",
   "mimetype": "text/x-python",
   "name": "python",
   "nbconvert_exporter": "python",
   "pygments_lexer": "ipython3",
   "version": "3.6.3"
  }
 },
 "nbformat": 4,
 "nbformat_minor": 2
}
